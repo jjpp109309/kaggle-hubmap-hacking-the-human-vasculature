{
 "cells": [
  {
   "cell_type": "code",
   "execution_count": 15,
   "id": "ea1c14fa-e64d-4e05-b0e7-220605d4a722",
   "metadata": {},
   "outputs": [],
   "source": [
    "%load_ext autoreload"
   ]
  },
  {
   "cell_type": "code",
   "execution_count": 29,
   "id": "62184147-45c5-443d-93e8-cf584bd0aa7f",
   "metadata": {},
   "outputs": [],
   "source": [
    "%autoreload now"
   ]
  },
  {
   "cell_type": "code",
   "execution_count": 24,
   "id": "0e174fe1-899e-4f3e-84bf-c27584eae414",
   "metadata": {},
   "outputs": [],
   "source": [
    "from kaggle_vascular_competition.data_loaders import load_image"
   ]
  },
  {
   "cell_type": "code",
   "execution_count": 25,
   "id": "ae03f780-1c70-4b1d-88db-d10da2b1641f",
   "metadata": {},
   "outputs": [],
   "source": [
    "path = '../data/train/bfff3d8c80c1.tif'"
   ]
  },
  {
   "cell_type": "code",
   "execution_count": 30,
   "id": "818536ab-a49c-404a-8ac9-1b4255577a73",
   "metadata": {},
   "outputs": [
    {
     "name": "stdout",
     "output_type": "stream",
     "text": [
      "cosa\n"
     ]
    },
    {
     "data": {
      "text/plain": [
       "array([[[175,  90, 148],\n",
       "        [180,  95, 153],\n",
       "        [185,  97, 157],\n",
       "        ...,\n",
       "        [204, 155, 183],\n",
       "        [202, 154, 180],\n",
       "        [184, 136, 162]],\n",
       "\n",
       "       [[159,  74, 132],\n",
       "        [167,  82, 140],\n",
       "        [177,  89, 149],\n",
       "        ...,\n",
       "        [192, 143, 171],\n",
       "        [188, 140, 166],\n",
       "        [180, 132, 158]],\n",
       "\n",
       "       [[158,  74, 133],\n",
       "        [168,  84, 143],\n",
       "        [180,  94, 156],\n",
       "        ...,\n",
       "        [177, 129, 157],\n",
       "        [176, 128, 156],\n",
       "        [183, 135, 163]],\n",
       "\n",
       "       ...,\n",
       "\n",
       "       [[187, 103, 157],\n",
       "        [171,  89, 142],\n",
       "        [156,  74, 127],\n",
       "        ...,\n",
       "        [218, 160, 208],\n",
       "        [215, 160, 205],\n",
       "        [196, 143, 187]],\n",
       "\n",
       "       [[185, 102, 157],\n",
       "        [188, 105, 160],\n",
       "        [186, 103, 158],\n",
       "        ...,\n",
       "        [219, 164, 211],\n",
       "        [219, 166, 210],\n",
       "        [200, 150, 192]],\n",
       "\n",
       "       [[168,  84, 142],\n",
       "        [186, 102, 160],\n",
       "        [197, 116, 173],\n",
       "        ...,\n",
       "        [212, 157, 202],\n",
       "        [221, 168, 212],\n",
       "        [209, 159, 201]]], dtype=uint8)"
      ]
     },
     "execution_count": 30,
     "metadata": {},
     "output_type": "execute_result"
    }
   ],
   "source": [
    "load_image(path)"
   ]
  },
  {
   "cell_type": "code",
   "execution_count": null,
   "id": "35149216-498f-4211-81e1-a0195fff27f7",
   "metadata": {},
   "outputs": [],
   "source": [
    "k"
   ]
  }
 ],
 "metadata": {
  "kernelspec": {
   "display_name": "Python 3 (ipykernel)",
   "language": "python",
   "name": "python3"
  },
  "language_info": {
   "codemirror_mode": {
    "name": "ipython",
    "version": 3
   },
   "file_extension": ".py",
   "mimetype": "text/x-python",
   "name": "python",
   "nbconvert_exporter": "python",
   "pygments_lexer": "ipython3",
   "version": "3.9.16"
  }
 },
 "nbformat": 4,
 "nbformat_minor": 5
}
